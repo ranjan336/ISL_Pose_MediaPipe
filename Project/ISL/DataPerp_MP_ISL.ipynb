{
 "cells": [
  {
   "cell_type": "markdown",
   "metadata": {},
   "source": [
    "# 1. Import and Install Dependencies"
   ]
  },
  {
   "cell_type": "code",
   "execution_count": null,
   "metadata": {},
   "outputs": [],
   "source": [
    "!pip install tensorflow==2.12.0 opencv-python mediapipe sklearn matplotlib"
   ]
  },
  {
   "cell_type": "code",
   "execution_count": null,
   "metadata": {},
   "outputs": [],
   "source": [
    "pip install tensorflow"
   ]
  },
  {
   "cell_type": "code",
   "execution_count": null,
   "metadata": {},
   "outputs": [],
   "source": [
    "pip install pandas"
   ]
  },
  {
   "cell_type": "code",
   "execution_count": null,
   "metadata": {},
   "outputs": [],
   "source": [
    "pip install pyspark"
   ]
  },
  {
   "cell_type": "code",
   "execution_count": null,
   "metadata": {},
   "outputs": [],
   "source": [
    "import cv2\n",
    "import numpy as np\n",
    "import os\n",
    "from matplotlib import pyplot as plt\n",
    "import time\n",
    "import mediapipe as mp"
   ]
  },
  {
   "cell_type": "markdown",
   "metadata": {},
   "source": [
    "# 2. Keypoints using MP Holistic"
   ]
  },
  {
   "cell_type": "code",
   "execution_count": null,
   "metadata": {},
   "outputs": [],
   "source": [
    "mp_holistic = mp.solutions.holistic # Holistic model\n",
    "mp_drawing = mp.solutions.drawing_utils # Drawing utilities"
   ]
  },
  {
   "cell_type": "code",
   "execution_count": null,
   "metadata": {},
   "outputs": [],
   "source": [
    "def mediapipe_detection(image, model):\n",
    "    image = cv2.cvtColor(image, cv2.COLOR_BGR2RGB) # COLOR CONVERSION BGR 2 RGB\n",
    "    image.flags.writeable = False                  # Image is no longer writeable\n",
    "    results = model.process(image)                 # Make prediction\n",
    "    image.flags.writeable = True                   # Image is now writeable \n",
    "    image = cv2.cvtColor(image, cv2.COLOR_RGB2BGR) # COLOR COVERSION RGB 2 BGR\n",
    "    return image, results"
   ]
  },
  {
   "cell_type": "code",
   "execution_count": null,
   "metadata": {},
   "outputs": [],
   "source": [
    "def draw_landmarks(image, results):\n",
    "    #mp_drawing.draw_landmarks(image, results.face_landmarks, mp_holistic.FACE_CONNECTIONS) # Draw face connections\n",
    "    mp_drawing.draw_landmarks(image, results.pose_landmarks, mp_holistic.POSE_CONNECTIONS) # Draw pose connections\n",
    "    mp_drawing.draw_landmarks(image, results.left_hand_landmarks, mp_holistic.HAND_CONNECTIONS) # Draw left hand connections\n",
    "    mp_drawing.draw_landmarks(image, results.right_hand_landmarks, mp_holistic.HAND_CONNECTIONS) # Draw right hand connections"
   ]
  },
  {
   "cell_type": "code",
   "execution_count": null,
   "metadata": {},
   "outputs": [],
   "source": [
    "def draw_styled_landmarks(image, results):\n",
    "    # Draw face connections\n",
    "    # mp_drawing.draw_landmarks(image, results.face_landmarks, mp_holistic.FACEMESH_TESSELATION, \n",
    "    #                          mp_drawing.DrawingSpec(color=(80,110,10), thickness=1, circle_radius=1), \n",
    "    #                          mp_drawing.DrawingSpec(color=(80,256,121), thickness=1, circle_radius=1)\n",
    "    #                          ) \n",
    "    # Draw pose connections\n",
    "    mp_drawing.draw_landmarks(image, results.pose_landmarks, mp_holistic.POSE_CONNECTIONS,\n",
    "                             mp_drawing.DrawingSpec(color=(80,22,10), thickness=2, circle_radius=4), \n",
    "                             mp_drawing.DrawingSpec(color=(80,44,121), thickness=2, circle_radius=2)\n",
    "                             ) \n",
    "    # Draw left hand connections\n",
    "    mp_drawing.draw_landmarks(image, results.left_hand_landmarks, mp_holistic.HAND_CONNECTIONS, \n",
    "                             mp_drawing.DrawingSpec(color=(121,22,76), thickness=2, circle_radius=4), \n",
    "                             mp_drawing.DrawingSpec(color=(121,44,250), thickness=2, circle_radius=2)\n",
    "                             ) \n",
    "    # Draw right hand connections  \n",
    "    mp_drawing.draw_landmarks(image, results.right_hand_landmarks, mp_holistic.HAND_CONNECTIONS, \n",
    "                             mp_drawing.DrawingSpec(color=(245,117,66), thickness=2, circle_radius=4), \n",
    "                             mp_drawing.DrawingSpec(color=(245,66,230), thickness=2, circle_radius=2)\n",
    "                             ) "
   ]
  },
  {
   "cell_type": "markdown",
   "metadata": {},
   "source": [
    "# 3. Extract Keypoint Values"
   ]
  },
  {
   "cell_type": "code",
   "execution_count": null,
   "metadata": {},
   "outputs": [],
   "source": [
    "def extract_keypoints(results):\n",
    "    pose = np.array([[res.x, res.y, res.z, res.visibility] for res in results.pose_landmarks.landmark]).flatten() if results.pose_landmarks else np.zeros(33*4)\n",
    "    #face = np.array([[res.x, res.y, res.z] for res in results.face_landmarks.landmark]).flatten() if results.face_landmarks else np.zeros(468*3)\n",
    "    lh = np.array([[res.x, res.y, res.z] for res in results.left_hand_landmarks.landmark]).flatten() if results.left_hand_landmarks else np.zeros(21*3)\n",
    "    rh = np.array([[res.x, res.y, res.z] for res in results.right_hand_landmarks.landmark]).flatten() if results.right_hand_landmarks else np.zeros(21*3)\n",
    "    return np.concatenate([pose, lh, rh])"
   ]
  },
  {
   "cell_type": "markdown",
   "metadata": {},
   "source": [
    "# 5. Collect Keypoint Values for Training and Testing"
   ]
  },
  {
   "cell_type": "markdown",
   "metadata": {},
   "source": [
    "## ISL_CSLRT_Corpus video Files"
   ]
  },
  {
   "cell_type": "code",
   "execution_count": null,
   "metadata": {},
   "outputs": [],
   "source": [
    "import pandas as pd\n",
    "\n",
    "# Path to your CSV file (including the file name and extension)\n",
    "csv_file_path = r\"C:\\Users\\ranjan.patra\\OneDrive - Lingaro Sp. z o. o\\DATA\\IITJ\\Course\\Projects\\ISL\\ISL_CSLRT_Corpus\\corpus_csv_files\\ISL_CSLRT_Corpus details.csv\"\n",
    "\n",
    "# Read the CSV file into a pandas DataFrame\n",
    "# Assuming UTF-8 encoding, but adjust if needed\n",
    "df = pd.read_csv(csv_file_path)\n",
    "\n",
    "# Define the root path using raw string literal\n",
    "rootpath = 'C:/Users/ranjan.patra/OneDrive - Lingaro Sp. z o. o/DATA/IITJ/Course/Projects/ISL/'\n"
   ]
  },
  {
   "cell_type": "code",
   "execution_count": null,
   "metadata": {},
   "outputs": [],
   "source": [
    "label_prev=\"\"\n",
    "#sample_num=0\n",
    "df_k = pd.DataFrame(columns=['Label', 'sample_type','Sample_Number', 'Frame_Number', 'Keypoints'])\n",
    "sample_type=\"Video\"\n",
    "\n",
    "\n",
    "for index, row in df.iterrows():\n",
    "    #print(\"label_prev:\",label_prev)\n",
    "    #print(index)\n",
    "    label = row[\"Sentences\"]  # Get the \"Word\" value for the current row\n",
    "    #print(\"label:\",label)\n",
    "    if label_prev!=label:\n",
    "        sample_num=0\n",
    "    else:\n",
    "        sample_num=sample_num+1\n",
    "    print(\"sample_num:\",sample_num)\n",
    "    label_prev=label\n",
    "    video_path = rootpath + row[\"File location\"]\n",
    "    video_path = video_path.replace('/', '\\\\')\n",
    "    print(\"video_path:\",row[\"File location\"])\n",
    "    #video_path = r\"C:\\Users\\ranjan.patra\\OneDrive - Lingaro Sp. z o. o\\DATA\\IITJ\\Course\\Projects\\ISL\\ISL_DICTIONARY\\A\\Alien_species.mp4\"\n",
    "\n",
    "    #for video_file in VIDEO_FILES:\n",
    "    cap = cv2.VideoCapture(video_path)\n",
    "    with mp_holistic.Holistic(min_detection_confidence=0.5, min_tracking_confidence=0.5) as holistic:\n",
    "        #print(\"Hi\")\n",
    "        #frame_number = 0\n",
    "        #with mp_holistic.Holistic(min_detection_confidence=0.5, min_tracking_confidence=0.5) as holistic:\n",
    "        while cap.isOpened():\n",
    "            ret, image = cap.read()\n",
    "            if ret is None:\n",
    "                print(\"Error reading frame. Exiting loop.\")\n",
    "                break\n",
    "            elif not ret:\n",
    "                print(\"End of video reached. Exiting loop.\")\n",
    "                break\n",
    "\n",
    "     \n",
    "            image = cv2.cvtColor(cv2.flip(image, 1), cv2.COLOR_BGR2RGB)\n",
    "            image.flags.writeable = False\n",
    "            image, results = mediapipe_detection(image, holistic)\n",
    "            image.flags.writeable = True\n",
    "            image = cv2.cvtColor(image, cv2.COLOR_RGB2BGR)\n",
    "\n",
    "            keypoints = extract_keypoints(results)\n",
    "            frame_number=cap.get(cv2.CAP_PROP_POS_FRAMES)\n",
    "            #print(\"Frame Num:\",frame_number)\n",
    "            #print(\"Frame Num:\", frame_number, keypoints)\n",
    "            \n",
    "\n",
    "            #draw_styled_landmarks(image, results)\n",
    "            \n",
    "\n",
    "\n",
    "            #cv2.putText(image, 'Collecting frames for {}; Sample Number:{}; frame number:{}'.format(label,sample_num,frame_number), (15, 12),\n",
    "                            #cv2.FONT_HERSHEY_SIMPLEX, 0.5, (255, 0, 255), 1, cv2.LINE_AA)\n",
    "\n",
    "\n",
    "            #cv2.imshow('OpenCV Feed', image)\n",
    "\n",
    "            #keypoints = extract_keypoints(results)\n",
    "            new_data = pd.DataFrame({'Label': [label], 'sample_type': [sample_type],'Sample_Number': [sample_num], 'Frame_Number': [frame_number], 'Keypoints': [keypoints]})\n",
    "\n",
    "            #new_data = pd.DataFrame({'Label': [label], 'Sample Number': [sample_num], 'Frame Number': [frame_number], 'Keypoints': [keypoints]})\n",
    "            df_k = pd.concat([df_k, new_data], ignore_index=True)\n",
    "\n",
    "            if cv2.waitKey(10) & 0xFF == ord('q'):\n",
    "                break\n",
    "\n",
    "                frame_number += 1\n",
    "\n",
    "        cap.release()\n",
    "        print(\"Cap realease\")\n",
    "        cv2.destroyAllWindows()\n",
    "\n",
    "df_k.to_parquet(r\"C:\\Users\\ranjan.patra\\OneDrive - Lingaro Sp. z o. o\\DATA\\IITJ\\Course\\Projects\\ISL\\ISL_CSLRT_Corpus\\Mp_Data\\LandMarks\")\n"
   ]
  },
  {
   "cell_type": "code",
   "execution_count": null,
   "metadata": {},
   "outputs": [],
   "source": [
    "cap.release()\n",
    "print(\"Cap realease\")\n",
    "cv2.destroyAllWindows()"
   ]
  },
  {
   "cell_type": "code",
   "execution_count": null,
   "metadata": {},
   "outputs": [],
   "source": [
    "\n",
    "\n",
    "\n",
    "df_from_parquet = pd.read_parquet(r\"C:\\Users\\ranjan.patra\\OneDrive - Lingaro Sp. z o. o\\DATA\\IITJ\\Course\\Projects\\ISL\\ISL_CSLRT_Corpus\\Mp_Data\\LandMarks\")\n",
    "\n",
    "display(df_from_parquet)"
   ]
  }
 ],
 "metadata": {
  "kernelspec": {
   "display_name": "Python 3",
   "language": "python",
   "name": "python3"
  },
  "language_info": {
   "codemirror_mode": {
    "name": "ipython",
    "version": 3
   },
   "file_extension": ".py",
   "mimetype": "text/x-python",
   "name": "python",
   "nbconvert_exporter": "python",
   "pygments_lexer": "ipython3",
   "version": "3.10.2"
  }
 },
 "nbformat": 4,
 "nbformat_minor": 2
}
